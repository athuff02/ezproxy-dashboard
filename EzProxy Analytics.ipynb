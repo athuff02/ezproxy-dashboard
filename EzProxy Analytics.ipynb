{
 "cells": [
  {
   "cell_type": "code",
   "execution_count": null,
   "id": "4ead90a7",
   "metadata": {},
   "outputs": [],
   "source": [
    "pip install -r requirements.txt"
   ]
  },
  {
   "cell_type": "code",
   "execution_count": null,
   "id": "31fb8c32",
   "metadata": {},
   "outputs": [],
   "source": [
    "#Importing the libraries we are going to use for our analysis\n",
    "import pandas as pd\n",
    "import numpy as np\n",
    "\n",
    "import plotly.express as px\n",
    "import plotly.graph_objects as go\n",
    "\n",
    "import dash\n",
    "\n",
    "ezproxy_df = pd.read_excel('EZProxy_Data_with_status_GitHub.xlsx')"
   ]
  },
  {
   "cell_type": "code",
   "execution_count": null,
   "id": "b6714f2b",
   "metadata": {},
   "outputs": [],
   "source": [
    "#Checking our dataframe to make sure it imported correctly\n",
    "ezproxy_df.head()"
   ]
  },
  {
   "cell_type": "code",
   "execution_count": null,
   "id": "75eec4ec",
   "metadata": {},
   "outputs": [],
   "source": [
    "ezproxy_status = ezproxy_df[[\"status\",\"platform_name\",\"date\"]]\n",
    "ezproxy_status = ezproxy_status.groupby([\"status\",\"platform_name\"])['date'].count().reset_index()\n",
    "ezproxy_status.columns=[\"status\", \"platform_name\",\"count\"]\n"
   ]
  },
  {
   "cell_type": "code",
   "execution_count": null,
   "id": "8dc742bc",
   "metadata": {},
   "outputs": [],
   "source": [
    "chart0 = px.bar(ezproxy_status, x='platform_name', y='count', color=\"status\", title=\"Accessions by Database and Status\")\n",
    "chart0.show()"
   ]
  },
  {
   "cell_type": "code",
   "execution_count": null,
   "id": "30a53403",
   "metadata": {},
   "outputs": [],
   "source": [
    "ezproxy_platform_count = ezproxy_df.groupby(by=\"platform_name\")['date'].count().reset_index()\n",
    "ezproxy_platform_count.columns=[\"platform_name\", \"count\"]\n",
    "ezproxy_platform_count = ezproxy_platform_count.sort_values(by = \"count\", ascending = False)\n",
    "ezproxy_top25 = ezproxy_platform_count.head(10)\n",
    "print(ezproxy_top25)"
   ]
  },
  {
   "cell_type": "code",
   "execution_count": null,
   "id": "1f95856e",
   "metadata": {},
   "outputs": [],
   "source": [
    "chart1 = px.bar(ezproxy_top25, x='platform_name', y='count', title=\"Accessions by Database\")\n",
    "chart1.show()"
   ]
  },
  {
   "cell_type": "code",
   "execution_count": null,
   "id": "b50822e8",
   "metadata": {},
   "outputs": [],
   "source": [
    "from dash import html\n",
    "from dash import dcc\n",
    "app = dash.Dash() \n",
    "app.layout = html.Div(\n",
    "                        [html.H1('EZProxy Data Dashboard: January 2019'), \n",
    "                         dcc.Graph(id='chart0', figure=chart0),\n",
    "                         dcc.Graph(id='chart1',figure=chart1)])\n",
    "app.run(debug=False,port=8008)"
   ]
  }
 ],
 "metadata": {
  "kernelspec": {
   "display_name": "Python 3 (ipykernel)",
   "language": "python",
   "name": "python3"
  },
  "language_info": {
   "codemirror_mode": {
    "name": "ipython",
    "version": 3
   },
   "file_extension": ".py",
   "mimetype": "text/x-python",
   "name": "python",
   "nbconvert_exporter": "python",
   "pygments_lexer": "ipython3",
   "version": "3.10.9"
  }
 },
 "nbformat": 4,
 "nbformat_minor": 5
}
